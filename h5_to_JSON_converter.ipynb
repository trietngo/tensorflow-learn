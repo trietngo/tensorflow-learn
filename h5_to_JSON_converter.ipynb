{
 "cells": [
  {
   "cell_type": "markdown",
   "metadata": {},
   "source": [
    "**.h5 to .JSON converter**\n",
    "\n",
    "Tested on Python 3.10.12 (Google Colab)"
   ]
  },
  {
   "cell_type": "markdown",
   "metadata": {},
   "source": [
    "Install necessary matching packages to avoid dependency errors"
   ]
  },
  {
   "cell_type": "code",
   "execution_count": null,
   "metadata": {},
   "outputs": [],
   "source": [
    "%pip install tensorflowjs==4.22.0\n",
    "%pip install tensorflow==2.15.0\n",
    "%pip install tensorflow_decision_forests==1.8.1\n",
    "%pip install pandas==2.2.2"
   ]
  },
  {
   "cell_type": "markdown",
   "metadata": {},
   "source": [
    "Convert h5 saved model to JSON for use in TensorFlow.JS project"
   ]
  },
  {
   "cell_type": "code",
   "execution_count": null,
   "metadata": {},
   "outputs": [],
   "source": [
    "!tensorflowjs_converter --input_format=keras model/rent_prediction_model.h5 model/tfjs_rent_prediction_model_keras"
   ]
  }
 ],
 "metadata": {
  "kernelspec": {
   "display_name": "base",
   "language": "python",
   "name": "python3"
  },
  "language_info": {
   "name": "python",
   "version": "3.12.3"
  }
 },
 "nbformat": 4,
 "nbformat_minor": 2
}
